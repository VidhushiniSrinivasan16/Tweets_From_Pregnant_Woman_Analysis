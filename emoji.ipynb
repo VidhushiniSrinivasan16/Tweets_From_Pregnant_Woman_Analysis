{
 "cells": [
  {
   "cell_type": "code",
   "execution_count": 3,
   "metadata": {},
   "outputs": [],
   "source": [
    "%matplotlib inline"
   ]
  },
  {
   "cell_type": "markdown",
   "metadata": {},
   "source": [
    "\n",
    "Emoji Example\n",
    "===============\n",
    "A simple example that shows how to include emoji.  Note that this example does not seem to work on OS X, but does\n",
    "work correctly in Ubuntu.\n",
    "\n",
    "There are 3 important steps to follow to include emoji:\n",
    "1) Read the text input with io.open instead of the built in open.  This ensures that it is loaded as UTF-8\n",
    "2) Override the regular expression used by word cloud to parse the text into words.  The default expression\n",
    "will only match ascii words\n",
    "3) Override the default font to something that supports emoji.  The included Symbola font includes black and\n",
    "white outlines for most emoji.  There are currently issues with the PIL/Pillow library that seem to prevent\n",
    "it from functioning correctly on OS X (https://github.com/python-pillow/Pillow/issues/1774), so try this\n",
    "on ubuntu if you are having problems.\n"
   ]
  },
  {
   "cell_type": "code",
   "execution_count": 7,
   "metadata": {},
   "outputs": [
    {
     "name": "stdout",
     "output_type": "stream",
     "text": [
      "                                         tweet)id                   location  \\\n",
      "0  tag:search.twitter.com,2005:744290974654996480                      rhyl    \n",
      "1  tag:search.twitter.com,2005:744754956981387264             Haxby, England   \n",
      "2  tag:search.twitter.com,2005:744905288235483137  Belfast, Northern Ireland   \n",
      "3  tag:search.twitter.com,2005:746224885559500800            Navasota, Texas   \n",
      "4  tag:search.twitter.com,2005:746364951485243392                 Ellensburg   \n",
      "\n",
      "                                                text  \\\n",
      "0        So hard to get comfy #pregnancyproblems  😣😣   \n",
      "1  Nothing like #braxtonhicks to wake you up! #pr...   \n",
      "2  Baby in womb hiccups are the weirdest things e...   \n",
      "3  RT @AliFedotowsky: Didn't sleep more than 3 ho...   \n",
      "4  Officially sick of bed rest!!!! Can't wait til...   \n",
      "\n",
      "                  timestamp language  \\\n",
      "0  2016-06-18T22:09:31.000Z       en   \n",
      "1  2016-06-20T04:53:13.000Z       en   \n",
      "2  2016-06-20T14:50:35.000Z       en   \n",
      "3  2016-06-24T06:14:11.000Z       en   \n",
      "4  2016-06-24T15:30:45.000Z       en   \n",
      "\n",
      "                                            hashtags  \n",
      "0                             [u'pregnancyproblems']  \n",
      "1  [u'braxtonhicks', u'pregnancyproblems', u'july...  \n",
      "2          [u'pregnancyproblems', u'alieninmybelly']  \n",
      "3                             [u'pregnancyproblems']  \n",
      "4                             [u'pregnancyproblems']  \n"
     ]
    }
   ],
   "source": [
    "from pandas import read_excel\n",
    "# find your sheet name at the bottom left of your excel file and assign \n",
    "# it to my_sheet \n",
    "my_sheet = 'tweet data set' # change it to your sheet name\n",
    "file_name = 'tweets.xlsx' # change it to the name of your excel file\n",
    "df = read_excel(file_name, sheet_name = my_sheet)\n",
    "print(df.head())"
   ]
  },
  {
   "cell_type": "code",
   "execution_count": 8,
   "metadata": {},
   "outputs": [
    {
     "data": {
      "text/plain": [
       "0             So hard to get comfy #pregnancyproblems  😣😣\n",
       "1       Nothing like #braxtonhicks to wake you up! #pr...\n",
       "2       Baby in womb hiccups are the weirdest things e...\n",
       "3       RT @AliFedotowsky: Didn't sleep more than 3 ho...\n",
       "4       Officially sick of bed rest!!!! Can't wait til...\n",
       "                              ...                        \n",
       "1706    I'm having issues going into a public restroom...\n",
       "1707    Get back from vacation and this was on my desk...\n",
       "1708    RT @BBJordanLloyd: I love how one minute I'm h...\n",
       "1709    Pretty sure my dog thinks I'm a fatass because...\n",
       "1710    Coworker referred to me today as 'massively pr...\n",
       "Name: text, Length: 1711, dtype: object"
      ]
     },
     "execution_count": 8,
     "metadata": {},
     "output_type": "execute_result"
    }
   ],
   "source": [
    "df['text']"
   ]
  },
  {
   "cell_type": "code",
   "execution_count": 17,
   "metadata": {},
   "outputs": [],
   "source": [
    "my_txt =\"hi😣😣\""
   ]
  },
  {
   "cell_type": "code",
   "execution_count": 34,
   "metadata": {},
   "outputs": [],
   "source": [
    "import io\n",
    "import os\n",
    "import string\n",
    "from os import path\n",
    "from wordcloud import WordCloud\n",
    "from arabic_reshaper import arabic_reshaper\n",
    "from bidi.algorithm import get_display\n",
    "\n",
    "# get data directory (using getcwd() is needed to support running example in generated IPython notebook)\n",
    "d = path.dirname(__file__) if \"__file__\" in locals() else os.getcwd()\n",
    "\n",
    "# It is important to use io.open to correctly load the file as UTF-8\n",
    "text = io.open(path.join(d, 'unicode.txt')).read()\n",
    "\n"
   ]
  },
  {
   "cell_type": "code",
   "execution_count": 35,
   "metadata": {},
   "outputs": [
    {
     "data": {
      "text/plain": [
       "'U+1F620\\nU+1F620\\nU+1F632\\nU+1F476\\nU+1F37C\\nU+1F36B\\nU+1F615\\nU+1F622\\nU+1F61E\\nU+1F369\\nU+1F611\\nU+1F60B\\nU+1F631\\nU+1F637\\nU+1F624\\nU+1F61C\\nU+1F602\\nU+1F633\\nU+1F35F\\nU+1F47B\\nU+1F354\\nU+1F368\\nU+1F62D\\nU+1F610\\nU+1F44C\\nU+1F389\\nU+1F614\\nU+1F623\\nU+1F64E\\nU+1F355\\nU+1F621\\nU+1F64C\\nU+1F648\\nU+1F370\\nU+1F634\\nU+263A\\nU+1F607\\nU+1F60D\\nU+1F606\\nU+1F605\\nU+1F366\\nU+1F35D\\nU+1F353\\nU+1F363\\nU+1F44E\\nU+1F44D\\nU+1F62B\\nU+1F495\\nU+1F629\\nU+1F377\\nU+1F4A4\\n'"
      ]
     },
     "execution_count": 35,
     "metadata": {},
     "output_type": "execute_result"
    }
   ],
   "source": [
    "text"
   ]
  },
  {
   "cell_type": "code",
   "execution_count": 39,
   "metadata": {},
   "outputs": [
    {
     "ename": "SyntaxError",
     "evalue": "invalid syntax (<ipython-input-39-a8fb13dcfbcd>, line 9)",
     "output_type": "error",
     "traceback": [
      "\u001b[0;36m  File \u001b[0;32m\"<ipython-input-39-a8fb13dcfbcd>\"\u001b[0;36m, line \u001b[0;32m9\u001b[0m\n\u001b[0;31m    emoji = ur\"[\\u0E00-\\u0E7Fa-zA-Z']+\"\u001b[0m\n\u001b[0m              ^\u001b[0m\n\u001b[0;31mSyntaxError\u001b[0m\u001b[0;31m:\u001b[0m invalid syntax\n"
     ]
    }
   ],
   "source": [
    "#text = get_display(arabic_reshaper.reshape(text))\n",
    "\n",
    "# the regex used to detect words is a combination of normal words, ascii art, and emojis\n",
    "# 2+ consecutive letters (also include apostrophes), e.x It's\n",
    "normal_word = r\"(?:\\w[\\w']+)\"\n",
    "# 2+ consecutive punctuations, e.x. :)\n",
    "ascii_art = r\"(?:[{punctuation}][{punctuation}]+)\".format(punctuation=string.punctuation)\n",
    "# a single character that is not alpha_numeric or other ascii printable\n",
    "emoji = ur\"[\\u0E00-\\u0E7Fa-zA-Z']+\"\n",
    "\n",
    "\n",
    "# Generate a word cloud image\n",
    "# The Symbola font includes most emoji\n",
    "font_path = path.join(d, 'fonts', 'Symbola', 'Symbola.ttf')\n",
    "wc = WordCloud(font_path=font_path, regexp=emoji).generate(text)\n",
    "\n",
    "# Display the generated image:\n",
    "# the matplotlib way:\n",
    "import matplotlib.pyplot as plt\n",
    "plt.imshow(wc)\n",
    "plt.axis(\"off\")\n",
    "plt.show()"
   ]
  },
  {
   "cell_type": "code",
   "execution_count": null,
   "metadata": {},
   "outputs": [],
   "source": []
  },
  {
   "cell_type": "code",
   "execution_count": null,
   "metadata": {},
   "outputs": [],
   "source": []
  }
 ],
 "metadata": {
  "kernelspec": {
   "display_name": "Python 3",
   "language": "python",
   "name": "python3"
  },
  "language_info": {
   "codemirror_mode": {
    "name": "ipython",
    "version": 3
   },
   "file_extension": ".py",
   "mimetype": "text/x-python",
   "name": "python",
   "nbconvert_exporter": "python",
   "pygments_lexer": "ipython3",
   "version": "3.8.5"
  }
 },
 "nbformat": 4,
 "nbformat_minor": 1
}
